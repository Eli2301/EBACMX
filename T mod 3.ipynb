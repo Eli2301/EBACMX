{
 "cells": [
  {
   "cell_type": "code",
   "execution_count": 35,
   "id": "8de45e3e",
   "metadata": {},
   "outputs": [
    {
     "name": "stdout",
     "output_type": "stream",
     "text": [
      "Ingresar las horas trabajadas: 0\n",
      "Ingresar la tarifa: 0\n",
      "El sueldo total es: $ 0\n"
     ]
    }
   ],
   "source": [
    "horas = int(input(\"Ingresar las horas trabajadas: \"))\n",
    "tarifa_por_hora = int(input(\"Ingresar la tarifa: \"))\n",
    "if horas <= 40:\n",
    "    pago = horas * tarifa_por_hora\n",
    "    print(\"El sueldo total es: $\",pago)\n",
    "elif horas > 40 or horas >=50 :\n",
    "    pago_mas_50 = 40 * tarifa_por_hora\n",
    "    pago_menos_40 = horas - 40\n",
    "    pago = pago_mas_50 + (pago_menos_40 * tarifa_por_hora * 1.1)\n",
    "    print(\"El sueldo total es: $\", pago)\n",
    "elif horas > 50:\n",
    "    pago_mas_50 = 40 * tarifa_por_hora\n",
    "    pago_50 = horas - 50\n",
    "    pago_menos_40 = horas - pago_50\n",
    "    dif_40 = pago_menos_40 - 40\n",
    "    pago = pago_mas_50 + ((dif_40 * tarifa_por_hora) * 1.1) + ((pago_menos_40 * tarifa_por_hora) * 1.2)\n",
    "    print(\"El sueldo total es: $\",pago)\n",
    "elif horas <= 0 and tarifa_por_hora <= 0:\n",
    "    print(\"Parametros Incorrectos\",pago)"
   ]
  },
  {
   "cell_type": "code",
   "execution_count": null,
   "id": "09a30d0b",
   "metadata": {},
   "outputs": [],
   "source": []
  }
 ],
 "metadata": {
  "kernelspec": {
   "display_name": "Python 3 (ipykernel)",
   "language": "python",
   "name": "python3"
  },
  "language_info": {
   "codemirror_mode": {
    "name": "ipython",
    "version": 3
   },
   "file_extension": ".py",
   "mimetype": "text/x-python",
   "name": "python",
   "nbconvert_exporter": "python",
   "pygments_lexer": "ipython3",
   "version": "3.9.13"
  }
 },
 "nbformat": 4,
 "nbformat_minor": 5
}
